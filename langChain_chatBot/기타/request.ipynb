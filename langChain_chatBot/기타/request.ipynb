{
 "cells": [
  {
   "cell_type": "code",
   "execution_count": 1,
   "metadata": {},
   "outputs": [
    {
     "data": {
      "text/plain": [
       "True"
      ]
     },
     "execution_count": 1,
     "metadata": {},
     "output_type": "execute_result"
    }
   ],
   "source": [
    "from dotenv import load_dotenv\n",
    "load_dotenv()"
   ]
  },
  {
   "cell_type": "code",
   "execution_count": 2,
   "metadata": {},
   "outputs": [],
   "source": [
    "# Colab에 필요한 라이브러리 설치\n",
    "import requests\n",
    "import pandas as pd\n",
    "import time"
   ]
  },
  {
   "cell_type": "code",
   "execution_count": null,
   "metadata": {},
   "outputs": [
    {
     "name": "stdout",
     "output_type": "stream",
     "text": [
      "CSV 파일이 성공적으로 생성되었습니다!\n"
     ]
    }
   ],
   "source": [
    "def fetch_questions_with_scores(tag, api_key, pagesize=100, max_pages=5):\n",
    "    questions_data = []\n",
    "\n",
    "    url = \"https://api.stackexchange.com/2.3/questions\"\n",
    "    for page in range(1, max_pages + 1):\n",
    "        params = {\n",
    "            \"order\": \"desc\",\n",
    "            \"sort\": \"activity\",\n",
    "            \"site\": \"stackoverflow\",\n",
    "            \"pagesize\": pagesize,\n",
    "            \"page\": page,\n",
    "            \"tagged\": tag,\n",
    "            \"filter\": \"withbody\",\n",
    "            \"key\": api_key\n",
    "        }\n",
    "        response = requests.get(url, params=params)\n",
    "        questions = response.json().get(\"items\", [])\n",
    "\n",
    "        for question in questions:\n",
    "            # 게시글 정보 수집 (제목, 본문, 추천수 포함)\n",
    "            questions_data.append({\n",
    "                \"question_title\": question[\"title\"],\n",
    "                \"question_body\": question[\"body\"],\n",
    "                \"score\": question[\"score\"]  # 추천수\n",
    "            })\n",
    "        \n",
    "        # API 요청 제한 준수를 위해 일시 정지\n",
    "        time.sleep(1)\n",
    "\n",
    "    # 수집한 데이터를 DataFrame으로 변환\n",
    "    df = pd.DataFrame(questions_data)\n",
    "    return df\n",
    "\n",
    "# 실행 예시\n",
    "api_key = \"rl_q4m61iyCwBsGNL6sY4oHnVPVd\"  # 여기에 API 키를 입력하세요\n",
    "tag = \"python\"  # 원하는 태그를 지정하세요\n",
    "df = fetch_questions_with_scores(tag, api_key)\n",
    "\n",
    "# DataFrame을 CSV 파일로 저장\n",
    "df.to_csv(\"qna_with_scores.csv\", index=False)\n",
    "print(\"CSV 파일이 성공적으로 생성되었습니다!\")\n"
   ]
  },
  {
   "cell_type": "code",
   "execution_count": null,
   "metadata": {},
   "outputs": [],
   "source": []
  }
 ],
 "metadata": {
  "kernelspec": {
   "display_name": ".venv",
   "language": "python",
   "name": "python3"
  },
  "language_info": {
   "codemirror_mode": {
    "name": "ipython",
    "version": 3
   },
   "file_extension": ".py",
   "mimetype": "text/x-python",
   "name": "python",
   "nbconvert_exporter": "python",
   "pygments_lexer": "ipython3",
   "version": "3.12.4"
  }
 },
 "nbformat": 4,
 "nbformat_minor": 2
}
