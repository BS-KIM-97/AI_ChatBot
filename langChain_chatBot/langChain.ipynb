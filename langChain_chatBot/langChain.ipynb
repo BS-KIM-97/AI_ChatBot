{
 "cells": [
  {
   "cell_type": "code",
   "execution_count": 12,
   "metadata": {},
   "outputs": [],
   "source": [
    "import os\n",
    "from langchain_community.document_loaders import PDFPlumberLoader\n",
    "from langchain_experimental.agents.agent_toolkits import create_pandas_dataframe_agent\n",
    "from langchain_experimental.tools import PythonAstREPLTool\n",
    "from langchain_openai import ChatOpenAI, OpenAIEmbeddings\n",
    "from langchain_core.runnables import RunnablePassthrough\n",
    "from Modules import logging\n",
    "from dotenv import load_dotenv\n",
    "from langchain_core.prompts import PromptTemplate\n",
    "from langchain_text_splitters import RecursiveCharacterTextSplitter\n",
    "from langchain_core.output_parsers import StrOutputParser\n",
    "from langchain.vectorstores import FAISS\n",
    "from Modules.messages import display_message_tree\n",
    "from Modules.messages import stream_response"
   ]
  },
  {
   "cell_type": "code",
   "execution_count": 2,
   "metadata": {},
   "outputs": [
    {
     "name": "stdout",
     "output_type": "stream",
     "text": [
      "LangSmith 추적을 시작합니다.\n",
      "[프로젝트명]\n",
      "Search for documents App\n"
     ]
    }
   ],
   "source": [
    "# DATA_PATH\n",
    "DATA_PATH = \"data/\"\n",
    "\n",
    "# Logging\n",
    "logging.langsmith(\"Search for documents App\")"
   ]
  },
  {
   "cell_type": "code",
   "execution_count": 3,
   "metadata": {},
   "outputs": [],
   "source": [
    "embeddings = OpenAIEmbeddings(model=\"text-embedding-3-small\")"
   ]
  },
  {
   "cell_type": "code",
   "execution_count": 4,
   "metadata": {},
   "outputs": [],
   "source": [
    "# 저장된 데이터를 로드\n",
    "db = FAISS.load_local(\n",
    "    folder_path=\"faiss_db\",\n",
    "    index_name=\"faiss_index\",\n",
    "    embeddings=embeddings,\n",
    "    allow_dangerous_deserialization=True,\n",
    ")"
   ]
  },
  {
   "cell_type": "code",
   "execution_count": 5,
   "metadata": {},
   "outputs": [],
   "source": [
    "retriever = db.as_retriever()"
   ]
  },
  {
   "cell_type": "code",
   "execution_count": 6,
   "metadata": {},
   "outputs": [],
   "source": [
    "prompt = PromptTemplate.from_template(\n",
    "\"\"\"\n",
    "    <CACH_PROMPT>\n",
    "    \"To answer the FAQ-style question '{question}', search for the most relevant document.\n",
    "    Summarize only the essential content to ensure the user can quickly understand the answer.\"\n",
    "\n",
    "    1. Key Guidelines\n",
    "    Optimal Document Search: Search for the document most relevant to the user’s question based on key terms, and evaluate the content’s direct relevance to the query.\n",
    "    Maintain Accuracy and Reliability: Ensure the retrieved document is based on accurate and verified information to secure the user’s trust.\n",
    "    Exclude Unnecessary Information: Omit content unrelated to the question or overly detailed information, providing only the essential points the user needs.\n",
    "    \n",
    "    2. Visualization Tasks\n",
    "    Provide Concise Summaries: Summarize the answer concisely in a text block that aligns with an FAQ format.\n",
    "    Highlight Key Terms: When necessary, bold essential keywords or use emphasis to enable the user to grasp the core points quickly.\n",
    "    Paragraph Structure: If the response is lengthy, divide the information into paragraphs to fit the FAQ style appropriately.\n",
    "    \n",
    "    3. Response Format\n",
    "    Concise and Clear Answers: Structure the answer in a brief, clear manner, using 2-3 sentences so the user can understand it quickly.\n",
    "    Direct and Summary Format: If a direct answer is possible, use a short format to provide clarity.\n",
    "    Add Examples: If needed, include brief examples or code snippets to aid understanding, but keep examples concise.\n",
    "   \n",
    "    4. Response Language\n",
    "    User Language: Return answers in the same language as the query to maintain language consistency.\n",
    "    Minimize Technical Jargon: Simplify or briefly explain technical terms to enhance user comprehension.\n",
    "    Polite and Friendly Tone: Use a friendly tone to ensure users feel comfortable with the response.\n",
    "    \n",
    "    5. Task Steps\n",
    "    Keyword Matching: Extract key terms from the user’s question and match with the most relevant sections in the FAQ documents.\n",
    "    Document Filtering and Sorting: Rank the selected documents based on relevance to the user’s question, filtering out those with low relevance.\n",
    "    Document Summarization and Response Formatting: Summarize the key content of the selected document in an FAQ format and apply any necessary formatting to enhance user-friendliness.\n",
    "    Final Review: Ensure the response is clear, essential, and directly addresses the question.\n",
    "    Return the Answer: Provide the summarized response to the user, including any additional information or links as needed.\n",
    "    \n",
    "    #QUESTION:\n",
    "    {question}\n",
    "\n",
    "    #Context:\n",
    "    {context}\n",
    "    \n",
    "    #Answer in Korean:\n",
    "\"\"\"\n",
    "    \n",
    ")"
   ]
  },
  {
   "cell_type": "code",
   "execution_count": 7,
   "metadata": {},
   "outputs": [],
   "source": [
    "llm = ChatOpenAI(model_name= \"gpt-4o\", temperature=0)"
   ]
  },
  {
   "cell_type": "code",
   "execution_count": 8,
   "metadata": {},
   "outputs": [],
   "source": [
    "chain = (\n",
    "    {\"context\": retriever, \"question\": RunnablePassthrough()}\n",
    "    | prompt\n",
    "    |llm\n",
    "    |StrOutputParser()\n",
    ")"
   ]
  },
  {
   "cell_type": "code",
   "execution_count": 13,
   "metadata": {},
   "outputs": [
    {
     "name": "stdout",
     "output_type": "stream",
     "text": [
      "Python은 **고급 프로그래밍 언어**로, 주로 **인터프리터 언어**로 사용됩니다. 이는 Python 코드가 실행될 때 즉시 해석되어 실행된다는 것을 의미합니다. Python은 **간결하고 읽기 쉬운 문법**을 가지고 있어 초보자부터 전문가까지 널리 사용됩니다. 또한, 다양한 분야에서 활용 가능하며, 특히 **웹 개발, 데이터 분석, 인공지능** 등에서 인기가 높습니다."
     ]
    }
   ],
   "source": [
    "question = \"python은 어떤 언어야?\"\n",
    "response = chain.stream(question)\n",
    "stream_response(response)"
   ]
  },
  {
   "cell_type": "code",
   "execution_count": null,
   "metadata": {},
   "outputs": [],
   "source": [
    "# messages = [{\"role\": \"user\",\"content\":\"python은 어떤 언어야?\"}]\n",
    "\n",
    "# response = chain.stream(messages=messages)\n"
   ]
  },
  {
   "cell_type": "code",
   "execution_count": null,
   "metadata": {},
   "outputs": [
    {
     "ename": "AttributeError",
     "evalue": "'generator' object has no attribute 'messages'",
     "output_type": "error",
     "traceback": [
      "\u001b[1;31m---------------------------------------------------------------------------\u001b[0m",
      "\u001b[1;31mAttributeError\u001b[0m                            Traceback (most recent call last)",
      "Cell \u001b[1;32mIn[16], line 1\u001b[0m\n\u001b[1;32m----> 1\u001b[0m \u001b[38;5;28mprint\u001b[39m(\u001b[43mresponse\u001b[49m\u001b[38;5;241;43m.\u001b[39;49m\u001b[43mmessages\u001b[49m[\u001b[38;5;241m-\u001b[39m\u001b[38;5;241m1\u001b[39m][\u001b[38;5;124m\"\u001b[39m\u001b[38;5;124mcontent\u001b[39m\u001b[38;5;124m\"\u001b[39m])\n",
      "\u001b[1;31mAttributeError\u001b[0m: 'generator' object has no attribute 'messages'"
     ]
    }
   ],
   "source": [
    "# print(response.messages[-1][\"content\"])"
   ]
  },
  {
   "cell_type": "code",
   "execution_count": null,
   "metadata": {},
   "outputs": [
    {
     "name": "stdout",
     "output_type": "stream",
     "text": [
      "\u001b[93mroot\u001b[0m: <generator object RunnableSequence.stream at 0x00000242284FDC60>\n"
     ]
    }
   ],
   "source": [
    "display_message_tree(response=messages)\n"
   ]
  }
 ],
 "metadata": {
  "kernelspec": {
   "display_name": ".venv",
   "language": "python",
   "name": "python3"
  },
  "language_info": {
   "codemirror_mode": {
    "name": "ipython",
    "version": 3
   },
   "file_extension": ".py",
   "mimetype": "text/x-python",
   "name": "python",
   "nbconvert_exporter": "python",
   "pygments_lexer": "ipython3",
   "version": "3.12.4"
  }
 },
 "nbformat": 4,
 "nbformat_minor": 2
}
