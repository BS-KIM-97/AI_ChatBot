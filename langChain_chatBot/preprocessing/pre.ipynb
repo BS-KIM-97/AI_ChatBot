{
 "cells": [
  {
   "cell_type": "code",
   "execution_count": 2,
   "metadata": {},
   "outputs": [],
   "source": [
    "import pandas as pd\n",
    "import re"
   ]
  },
  {
   "cell_type": "code",
   "execution_count": 4,
   "metadata": {},
   "outputs": [],
   "source": [
    "df = pd.read_csv(\"data/qna.csv\")"
   ]
  },
  {
   "cell_type": "code",
   "execution_count": 5,
   "metadata": {},
   "outputs": [],
   "source": [
    "# HTML 태그와 공백을 제거하는 함수\n",
    "def clean_text(text):\n",
    "    # HTML 태그 제거\n",
    "    text = re.sub(r'<.*?>', '', text)\n",
    "    # 앞뒤 공백 제거\n",
    "    text = text.strip()\n",
    "    return text"
   ]
  },
  {
   "cell_type": "code",
   "execution_count": 6,
   "metadata": {},
   "outputs": [],
   "source": [
    "df['combined'] = df['question_title'] + \" \" + df['accepted_answer_body']  # 두 컬럼 합치기"
   ]
  },
  {
   "cell_type": "code",
   "execution_count": 8,
   "metadata": {},
   "outputs": [
    {
     "data": {
      "text/html": [
       "<div>\n",
       "<style scoped>\n",
       "    .dataframe tbody tr th:only-of-type {\n",
       "        vertical-align: middle;\n",
       "    }\n",
       "\n",
       "    .dataframe tbody tr th {\n",
       "        vertical-align: top;\n",
       "    }\n",
       "\n",
       "    .dataframe thead th {\n",
       "        text-align: right;\n",
       "    }\n",
       "</style>\n",
       "<table border=\"1\" class=\"dataframe\">\n",
       "  <thead>\n",
       "    <tr style=\"text-align: right;\">\n",
       "      <th></th>\n",
       "      <th>question_title</th>\n",
       "      <th>accepted_answer_body</th>\n",
       "      <th>combined</th>\n",
       "    </tr>\n",
       "  </thead>\n",
       "  <tbody>\n",
       "    <tr>\n",
       "      <th>0</th>\n",
       "      <td>@roo_validator error when importing langchain....</td>\n",
       "      <td>&lt;p&gt;I was using LangChain 0.0.20 and I got the ...</td>\n",
       "      <td>@roo_validator error when importing langchain....</td>\n",
       "    </tr>\n",
       "    <tr>\n",
       "      <th>1</th>\n",
       "      <td>Any way to check if a number is already within...</td>\n",
       "      <td>&lt;p&gt;First you just need a given cell (row,col) ...</td>\n",
       "      <td>Any way to check if a number is already within...</td>\n",
       "    </tr>\n",
       "    <tr>\n",
       "      <th>2</th>\n",
       "      <td>Type hint for a tuple of variable length (vari...</td>\n",
       "      <td>&lt;p&gt;We can annotate variable-length homogeneous...</td>\n",
       "      <td>Type hint for a tuple of variable length (vari...</td>\n",
       "    </tr>\n",
       "    <tr>\n",
       "      <th>3</th>\n",
       "      <td>How can I do one-hot encoding from multiple co...</td>\n",
       "      <td>&lt;p&gt;Use melt and crosstab.&lt;/p&gt;\\n&lt;pre&gt;&lt;code&gt;tmp ...</td>\n",
       "      <td>How can I do one-hot encoding from multiple co...</td>\n",
       "    </tr>\n",
       "    <tr>\n",
       "      <th>4</th>\n",
       "      <td>What is the difference between TypeVar and New...</td>\n",
       "      <td>&lt;p&gt;The two concepts aren't related any more th...</td>\n",
       "      <td>What is the difference between TypeVar and New...</td>\n",
       "    </tr>\n",
       "  </tbody>\n",
       "</table>\n",
       "</div>"
      ],
      "text/plain": [
       "                                      question_title  \\\n",
       "0  @roo_validator error when importing langchain....   \n",
       "1  Any way to check if a number is already within...   \n",
       "2  Type hint for a tuple of variable length (vari...   \n",
       "3  How can I do one-hot encoding from multiple co...   \n",
       "4  What is the difference between TypeVar and New...   \n",
       "\n",
       "                                accepted_answer_body  \\\n",
       "0  <p>I was using LangChain 0.0.20 and I got the ...   \n",
       "1  <p>First you just need a given cell (row,col) ...   \n",
       "2  <p>We can annotate variable-length homogeneous...   \n",
       "3  <p>Use melt and crosstab.</p>\\n<pre><code>tmp ...   \n",
       "4  <p>The two concepts aren't related any more th...   \n",
       "\n",
       "                                            combined  \n",
       "0  @roo_validator error when importing langchain....  \n",
       "1  Any way to check if a number is already within...  \n",
       "2  Type hint for a tuple of variable length (vari...  \n",
       "3  How can I do one-hot encoding from multiple co...  \n",
       "4  What is the difference between TypeVar and New...  "
      ]
     },
     "execution_count": 8,
     "metadata": {},
     "output_type": "execute_result"
    }
   ],
   "source": [
    "df.head(5)"
   ]
  },
  {
   "cell_type": "code",
   "execution_count": 9,
   "metadata": {},
   "outputs": [],
   "source": [
    "data = df.drop(columns=['question_title', 'accepted_answer_body'])"
   ]
  },
  {
   "cell_type": "code",
   "execution_count": 10,
   "metadata": {},
   "outputs": [
    {
     "data": {
      "text/html": [
       "<div>\n",
       "<style scoped>\n",
       "    .dataframe tbody tr th:only-of-type {\n",
       "        vertical-align: middle;\n",
       "    }\n",
       "\n",
       "    .dataframe tbody tr th {\n",
       "        vertical-align: top;\n",
       "    }\n",
       "\n",
       "    .dataframe thead th {\n",
       "        text-align: right;\n",
       "    }\n",
       "</style>\n",
       "<table border=\"1\" class=\"dataframe\">\n",
       "  <thead>\n",
       "    <tr style=\"text-align: right;\">\n",
       "      <th></th>\n",
       "      <th>combined</th>\n",
       "    </tr>\n",
       "  </thead>\n",
       "  <tbody>\n",
       "    <tr>\n",
       "      <th>0</th>\n",
       "      <td>@roo_validator error when importing langchain....</td>\n",
       "    </tr>\n",
       "    <tr>\n",
       "      <th>1</th>\n",
       "      <td>Any way to check if a number is already within...</td>\n",
       "    </tr>\n",
       "    <tr>\n",
       "      <th>2</th>\n",
       "      <td>Type hint for a tuple of variable length (vari...</td>\n",
       "    </tr>\n",
       "    <tr>\n",
       "      <th>3</th>\n",
       "      <td>How can I do one-hot encoding from multiple co...</td>\n",
       "    </tr>\n",
       "    <tr>\n",
       "      <th>4</th>\n",
       "      <td>What is the difference between TypeVar and New...</td>\n",
       "    </tr>\n",
       "  </tbody>\n",
       "</table>\n",
       "</div>"
      ],
      "text/plain": [
       "                                            combined\n",
       "0  @roo_validator error when importing langchain....\n",
       "1  Any way to check if a number is already within...\n",
       "2  Type hint for a tuple of variable length (vari...\n",
       "3  How can I do one-hot encoding from multiple co...\n",
       "4  What is the difference between TypeVar and New..."
      ]
     },
     "execution_count": 10,
     "metadata": {},
     "output_type": "execute_result"
    }
   ],
   "source": [
    "data.head(5)"
   ]
  },
  {
   "cell_type": "code",
   "execution_count": 11,
   "metadata": {},
   "outputs": [
    {
     "data": {
      "text/plain": [
       "0       @roo_validator error when importing langchain....\n",
       "1       Any way to check if a number is already within...\n",
       "2       Type hint for a tuple of variable length (vari...\n",
       "3       How can I do one-hot encoding from multiple co...\n",
       "4       What is the difference between TypeVar and New...\n",
       "                              ...                        \n",
       "3598    How to return multiple stats as multiple colum...\n",
       "3599    f-string: unmatched &#39;(&#39; in line with f...\n",
       "3600    Retrieve query results as dict in SQLAlchemy \\...\n",
       "3601    How to select rows that have more than one val...\n",
       "3602    How to write to a shared variable in python jo...\n",
       "Name: combined, Length: 3603, dtype: object"
      ]
     },
     "execution_count": 11,
     "metadata": {},
     "output_type": "execute_result"
    }
   ],
   "source": [
    "data['combined'].apply(clean_text)"
   ]
  },
  {
   "cell_type": "code",
   "execution_count": 12,
   "metadata": {},
   "outputs": [
    {
     "data": {
      "text/html": [
       "<div>\n",
       "<style scoped>\n",
       "    .dataframe tbody tr th:only-of-type {\n",
       "        vertical-align: middle;\n",
       "    }\n",
       "\n",
       "    .dataframe tbody tr th {\n",
       "        vertical-align: top;\n",
       "    }\n",
       "\n",
       "    .dataframe thead th {\n",
       "        text-align: right;\n",
       "    }\n",
       "</style>\n",
       "<table border=\"1\" class=\"dataframe\">\n",
       "  <thead>\n",
       "    <tr style=\"text-align: right;\">\n",
       "      <th></th>\n",
       "      <th>combined</th>\n",
       "    </tr>\n",
       "  </thead>\n",
       "  <tbody>\n",
       "    <tr>\n",
       "      <th>0</th>\n",
       "      <td>@roo_validator error when importing langchain....</td>\n",
       "    </tr>\n",
       "    <tr>\n",
       "      <th>1</th>\n",
       "      <td>Any way to check if a number is already within...</td>\n",
       "    </tr>\n",
       "    <tr>\n",
       "      <th>2</th>\n",
       "      <td>Type hint for a tuple of variable length (vari...</td>\n",
       "    </tr>\n",
       "    <tr>\n",
       "      <th>3</th>\n",
       "      <td>How can I do one-hot encoding from multiple co...</td>\n",
       "    </tr>\n",
       "    <tr>\n",
       "      <th>4</th>\n",
       "      <td>What is the difference between TypeVar and New...</td>\n",
       "    </tr>\n",
       "  </tbody>\n",
       "</table>\n",
       "</div>"
      ],
      "text/plain": [
       "                                            combined\n",
       "0  @roo_validator error when importing langchain....\n",
       "1  Any way to check if a number is already within...\n",
       "2  Type hint for a tuple of variable length (vari...\n",
       "3  How can I do one-hot encoding from multiple co...\n",
       "4  What is the difference between TypeVar and New..."
      ]
     },
     "execution_count": 12,
     "metadata": {},
     "output_type": "execute_result"
    }
   ],
   "source": [
    "data.head()"
   ]
  },
  {
   "cell_type": "code",
   "execution_count": 13,
   "metadata": {},
   "outputs": [
    {
     "name": "stdout",
     "output_type": "stream",
     "text": [
      "CSV 파일이 성공적으로 생성되었습니다!\n"
     ]
    }
   ],
   "source": [
    "data.to_csv(\"qna_re.csv\", index=False)\n",
    "print(\"CSV 파일이 성공적으로 생성되었습니다!\")"
   ]
  },
  {
   "cell_type": "code",
   "execution_count": 14,
   "metadata": {},
   "outputs": [],
   "source": [
    "df2 = pd.read_csv(\"qna_re.csv\")"
   ]
  },
  {
   "cell_type": "code",
   "execution_count": 15,
   "metadata": {},
   "outputs": [
    {
     "data": {
      "text/html": [
       "<div>\n",
       "<style scoped>\n",
       "    .dataframe tbody tr th:only-of-type {\n",
       "        vertical-align: middle;\n",
       "    }\n",
       "\n",
       "    .dataframe tbody tr th {\n",
       "        vertical-align: top;\n",
       "    }\n",
       "\n",
       "    .dataframe thead th {\n",
       "        text-align: right;\n",
       "    }\n",
       "</style>\n",
       "<table border=\"1\" class=\"dataframe\">\n",
       "  <thead>\n",
       "    <tr style=\"text-align: right;\">\n",
       "      <th></th>\n",
       "      <th>combined</th>\n",
       "    </tr>\n",
       "  </thead>\n",
       "  <tbody>\n",
       "    <tr>\n",
       "      <th>0</th>\n",
       "      <td>@roo_validator error when importing langchain....</td>\n",
       "    </tr>\n",
       "    <tr>\n",
       "      <th>1</th>\n",
       "      <td>Any way to check if a number is already within...</td>\n",
       "    </tr>\n",
       "    <tr>\n",
       "      <th>2</th>\n",
       "      <td>Type hint for a tuple of variable length (vari...</td>\n",
       "    </tr>\n",
       "    <tr>\n",
       "      <th>3</th>\n",
       "      <td>How can I do one-hot encoding from multiple co...</td>\n",
       "    </tr>\n",
       "    <tr>\n",
       "      <th>4</th>\n",
       "      <td>What is the difference between TypeVar and New...</td>\n",
       "    </tr>\n",
       "  </tbody>\n",
       "</table>\n",
       "</div>"
      ],
      "text/plain": [
       "                                            combined\n",
       "0  @roo_validator error when importing langchain....\n",
       "1  Any way to check if a number is already within...\n",
       "2  Type hint for a tuple of variable length (vari...\n",
       "3  How can I do one-hot encoding from multiple co...\n",
       "4  What is the difference between TypeVar and New..."
      ]
     },
     "execution_count": 15,
     "metadata": {},
     "output_type": "execute_result"
    }
   ],
   "source": [
    "df2.head()"
   ]
  },
  {
   "cell_type": "code",
   "execution_count": null,
   "metadata": {},
   "outputs": [],
   "source": []
  }
 ],
 "metadata": {
  "kernelspec": {
   "display_name": ".venv",
   "language": "python",
   "name": "python3"
  },
  "language_info": {
   "codemirror_mode": {
    "name": "ipython",
    "version": 3
   },
   "file_extension": ".py",
   "mimetype": "text/x-python",
   "name": "python",
   "nbconvert_exporter": "python",
   "pygments_lexer": "ipython3",
   "version": "3.12.4"
  }
 },
 "nbformat": 4,
 "nbformat_minor": 2
}
