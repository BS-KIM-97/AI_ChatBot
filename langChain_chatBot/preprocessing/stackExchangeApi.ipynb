{
 "cells": [
  {
   "cell_type": "markdown",
   "metadata": {},
   "source": [
    "# 환경 설정"
   ]
  },
  {
   "cell_type": "code",
   "execution_count": 1,
   "metadata": {},
   "outputs": [],
   "source": [
    "from dotenv import load_dotenv"
   ]
  },
  {
   "cell_type": "code",
   "execution_count": 2,
   "metadata": {},
   "outputs": [
    {
     "data": {
      "text/plain": [
       "True"
      ]
     },
     "execution_count": 2,
     "metadata": {},
     "output_type": "execute_result"
    }
   ],
   "source": [
    "load_dotenv()"
   ]
  },
  {
   "cell_type": "code",
   "execution_count": 3,
   "metadata": {},
   "outputs": [],
   "source": [
    "# Colab에 필요한 라이브러리 설치\n",
    "import requests\n",
    "import pandas as pd\n",
    "import time"
   ]
  },
  {
   "cell_type": "code",
   "execution_count": 8,
   "metadata": {},
   "outputs": [
    {
     "name": "stdout",
     "output_type": "stream",
     "text": [
      "CSV 파일이 성공적으로 생성되었습니다!\n"
     ]
    }
   ],
   "source": [
    "def fetch_questions_with_accepted_answers(tag, api_key, pagesize=100, max_pages=100):\n",
    "    questions_data = []\n",
    "\n",
    "    url = \"https://api.stackexchange.com/2.3/questions\"\n",
    "    for page in range(1, max_pages + 1):\n",
    "        params = {\n",
    "            \"order\": \"desc\",\n",
    "            \"sort\": \"activity\",\n",
    "            \"site\": \"stackoverflow\",\n",
    "            \"pagesize\": pagesize,\n",
    "            \"page\": page,\n",
    "            \"tagged\": tag,\n",
    "            \"filter\": \"withbody\",\n",
    "            \"key\": api_key\n",
    "        }\n",
    "        response = requests.get(url, params=params)\n",
    "        questions = response.json().get(\"items\", [])\n",
    "\n",
    "        for question in questions:\n",
    "            # Check if the question has an accepted answer\n",
    "            if question[\"is_answered\"] and question.get(\"accepted_answer_id\"):\n",
    "                # Fetch the accepted answer\n",
    "                accepted_answer = fetch_answer(question[\"accepted_answer_id\"], api_key)\n",
    "                if accepted_answer:\n",
    "                    questions_data.append({\n",
    "                        \"question_title\": question[\"title\"],\n",
    "                        \"accepted_answer_body\": accepted_answer\n",
    "                    })\n",
    "        time.sleep(1)  # API 요청 제한 준수\n",
    "\n",
    "    # Create a DataFrame from the collected data\n",
    "    df = pd.DataFrame(questions_data)\n",
    "    return df\n",
    "\n",
    "def fetch_answer(answer_id, api_key):\n",
    "    url = f\"https://api.stackexchange.com/2.3/answers/{answer_id}\"\n",
    "    params = {\n",
    "        \"order\": \"desc\",\n",
    "        \"sort\": \"activity\",\n",
    "        \"site\": \"stackoverflow\",\n",
    "        \"filter\": \"withbody\",\n",
    "        \"key\": api_key\n",
    "    }\n",
    "    response = requests.get(url, params=params)\n",
    "    items = response.json().get(\"items\", [])\n",
    "\n",
    "    if items:\n",
    "        return items[0].get(\"body\")  # Return the body of the accepted answer\n",
    "    return None\n",
    "\n",
    "# 실행 예시\n",
    "api_key = \"rl_q4m61iyCwBsGNL6sY4oHnVPVd\"  # 여기에 API 키를 입력하세요\n",
    "tag = \"python\"  # 원하는 태그를 지정하세요\n",
    "df = fetch_questions_with_accepted_answers(tag, api_key)\n",
    "\n",
    "# 데이터프레임을 CSV 파일로 저장\n",
    "df.to_csv(\"qna.csv\", index=False)\n",
    "print(\"CSV 파일이 성공적으로 생성되었습니다!\")\n"
   ]
  },
  {
   "cell_type": "code",
   "execution_count": null,
   "metadata": {},
   "outputs": [],
   "source": []
  }
 ],
 "metadata": {
  "kernelspec": {
   "display_name": ".venv",
   "language": "python",
   "name": "python3"
  },
  "language_info": {
   "codemirror_mode": {
    "name": "ipython",
    "version": 3
   },
   "file_extension": ".py",
   "mimetype": "text/x-python",
   "name": "python",
   "nbconvert_exporter": "python",
   "pygments_lexer": "ipython3",
   "version": "3.12.4"
  }
 },
 "nbformat": 4,
 "nbformat_minor": 2
}
